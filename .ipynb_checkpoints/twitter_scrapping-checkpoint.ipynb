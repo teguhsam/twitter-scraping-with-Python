{
 "cells": [
  {
   "cell_type": "markdown",
   "metadata": {},
   "source": [
    "# Import Packages"
   ]
  },
  {
   "cell_type": "code",
   "execution_count": 25,
   "metadata": {
    "ExecuteTime": {
     "end_time": "2020-02-18T01:35:47.663976Z",
     "start_time": "2020-02-18T01:35:47.657830Z"
    }
   },
   "outputs": [],
   "source": [
    "import json\n",
    "import pandas as pd\n",
    "import numpy as np\n",
    "import matplotlib.pyplot as plt"
   ]
  },
  {
   "cell_type": "markdown",
   "metadata": {},
   "source": [
    "# Import My Twitter Credential from A Text File"
   ]
  },
  {
   "cell_type": "code",
   "execution_count": 21,
   "metadata": {
    "ExecuteTime": {
     "end_time": "2020-02-18T01:32:23.457314Z",
     "start_time": "2020-02-18T01:32:23.451346Z"
    }
   },
   "outputs": [],
   "source": [
    "read_twit_credential = open(\"twitter_credential.txt\", \"r\").read().splitlines()"
   ]
  },
  {
   "cell_type": "code",
   "execution_count": 24,
   "metadata": {
    "ExecuteTime": {
     "end_time": "2020-02-18T01:34:28.484122Z",
     "start_time": "2020-02-18T01:34:28.480049Z"
    }
   },
   "outputs": [],
   "source": [
    "API_KEY = read_twit_credential[0]\n",
    "API_SECRET_KEY = read_twit_credential[1]\n",
    "ACCESS_TOKEN = read_twit_credential[2]\n",
    "ACCESS_TOKEN_SECRET = read_twit_credential[3]"
   ]
  },
  {
   "cell_type": "markdown",
   "metadata": {},
   "source": [
    "# Export Twython\n",
    "\n",
    "https://twython.readthedocs.io/en/latest/usage/streaming_api.html#\n",
    "\n",
    "pip install twython"
   ]
  },
  {
   "cell_type": "code",
   "execution_count": 26,
   "metadata": {
    "ExecuteTime": {
     "end_time": "2020-02-18T01:35:49.945500Z",
     "start_time": "2020-02-18T01:35:49.940782Z"
    }
   },
   "outputs": [],
   "source": [
    "from twython import TwythonStreamer"
   ]
  },
  {
   "cell_type": "markdown",
   "metadata": {
    "ExecuteTime": {
     "end_time": "2020-02-18T01:37:08.785002Z",
     "start_time": "2020-02-18T01:37:08.781838Z"
    }
   },
   "source": [
    "# Create a Class that Collects Tweets"
   ]
  },
  {
   "cell_type": "code",
   "execution_count": 41,
   "metadata": {
    "ExecuteTime": {
     "end_time": "2020-02-18T01:53:21.971081Z",
     "start_time": "2020-02-18T01:53:21.960408Z"
    }
   },
   "outputs": [],
   "source": [
    "twit_count = 1000"
   ]
  },
  {
   "cell_type": "code",
   "execution_count": 42,
   "metadata": {
    "ExecuteTime": {
     "end_time": "2020-02-18T01:53:23.284735Z",
     "start_time": "2020-02-18T01:53:23.273756Z"
    }
   },
   "outputs": [],
   "source": [
    "class MyStreamer(TwythonStreamer):\n",
    "\n",
    "    # overriding\n",
    "    def on_success(self, data):\n",
    "        if 'text' in data:      # check if the received data has key 'text'\n",
    "            tweets.append(data['text']) # append data to our list\n",
    "            print(len(tweets), data['text'])    # print the tweet text\n",
    "\n",
    "        if len(tweets) >= twit_count:  # if we have 1000 tweets\n",
    "            self.disconnect()   # disconnect API connection using a method from TwythonStreamer\n",
    "\n",
    "    # overriding\n",
    "    def on_error(self, status_code, data):\n",
    "        print(status_code)\n",
    "        self.disconnect()"
   ]
  },
  {
   "cell_type": "markdown",
   "metadata": {},
   "source": [
    "## Create a list to store collected tweets"
   ]
  },
  {
   "cell_type": "code",
   "execution_count": 43,
   "metadata": {
    "ExecuteTime": {
     "end_time": "2020-02-18T01:53:25.227498Z",
     "start_time": "2020-02-18T01:53:25.223365Z"
    }
   },
   "outputs": [],
   "source": [
    "tweets = []"
   ]
  },
  {
   "cell_type": "markdown",
   "metadata": {},
   "source": [
    "## Create MyStreamer instance with my credential"
   ]
  },
  {
   "cell_type": "code",
   "execution_count": 44,
   "metadata": {
    "ExecuteTime": {
     "end_time": "2020-02-18T01:53:26.729727Z",
     "start_time": "2020-02-18T01:53:26.725676Z"
    }
   },
   "outputs": [],
   "source": [
    "stream = MyStreamer(API_KEY, API_SECRET_KEY, ACCESS_TOKEN, ACCESS_TOKEN_SECRET)"
   ]
  },
  {
   "cell_type": "markdown",
   "metadata": {},
   "source": [
    "## Collect tweets using keywords"
   ]
  },
  {
   "cell_type": "code",
   "execution_count": null,
   "metadata": {
    "ExecuteTime": {
     "start_time": "2020-02-18T01:53:28.864Z"
    }
   },
   "outputs": [
    {
     "name": "stdout",
     "output_type": "stream",
     "text": [
      "1 RT @SBSNews: The Morrison government is set to adopt a technology investment target instead of signing up to a global agreement to achieve…\n",
      "2 @ColinCowherd im for steroids and using technology to steal signs\n",
      "3 @peachpanini of course we'd have the technology to show them on a reasonable scale via your tv/computer monitor. think of the possibilities\n",
      "4 RT @asadowaisi: Kashmir mein sab kuch normal hai, haina?\n",
      "\n",
      "Everyday there is new proof of how little @AmitShah understood Kashmir (or appare…\n",
      "5 RT @iAnkurSingh: Google was technology partner and helped setting up wifi service for 415 stations, whereas railway's PSU Railtel is provid…\n",
      "6 $N├ç£Õût #Markets #Finance #Technology #Network #weekend #software #Economy #Investment https://t.co/Zkz2GnxywV https://t.co/xOkh3ZuZyA\n",
      "7 RT @YoungDems4Trump: Bloomberg says farmers lack intelligence: “I can teach anyone how to be a farmer 1 dig a hole 2 put a seed in 3 put di…\n",
      "8 RT @TheHackersNews: OpenSSH 8.2 released :\n",
      "\n",
      "➡️ now supports FIDO U2F security keys for strong 2-factor authentication,\n",
      "\n",
      "➡️ deprecated SSH-R…\n",
      "9 RT @1216432ebdff425: Hello there, Are you looking for a photo editing and retouching service? Yes it's a right place for you!\n",
      "#GirlsWhoCode…\n",
      "10 RT @1216432ebdff425: Hello there, Are you looking for a photo editing and retouching service? Yes it's a right place for you!\n",
      "#GirlsWhoCode…\n",
      "11 RT @AdamBandt: We’re in a climate emergency but the best the PM can come up with is a technology smokescreen.\n",
      "\n",
      "Yes, we need support to quic…\n",
      "12 How Do X-Rays Work? https://t.co/b8Uzx1AWql - #engineering, #technology and #science from @IntEngineering\n",
      "13 RT @EricMMatheny: Translation: we NY liberals know what’s best, middle America is dumb and living behind the times, but who cares because t…\n",
      "14 \"Full interview: Archer Materials lodges graphene biosensor #technology international patent ...: Archer Materials… https://t.co/jLymBEe4je\n",
      "15 RT @dougbrownDBA: A decade of analytics vendor mergers and acquisitions https://t.co/Zk6jPmjoWf https://t.co/ioYfDRalbD\n",
      "16 @XHNews @SpeakerPelosi She lied by saying 5G is a reverse technology... 5G is not a reverse technology... Any other… https://t.co/wxXCMJ6U1l\n",
      "17 RT @narendramodi: Technology and gadgets- boon or bane?\n",
      "\n",
      "A topic with strong views on both sides…\n",
      "\n",
      "This is what we discussed about technolo…\n",
      "18 RT @ezralevant: There is no “supercomputer” that costs £1.2 billion. It’s a £100,000 computer and £1.199 billion in grift and graft.\n",
      "19 News! #BroadwayTechnology #IONInvestmentGroup ION Investment Group Recapitales Broadway Technology: ION Investment… https://t.co/j9TdoGjWv0\n",
      "20 as soon as i create &amp; lose control of a highly flawed &amp; vindictive runaway supreme artificial intelligence its over 4 u bitches\n",
      "21 Biggie was out here with a 2k phone bill and all he could do was call people. Thank God for technology.\n",
      "22 RT @jturl057: Super interesting discussion about how the @TCS_SDC adapts the growing Technology #Accelerator Program (@CTA_TCS) to local cu…\n",
      "23 https://t.co/OvLW9rlorF\n",
      "24 RT @ERios_TECH: #TeamSISD, today is the last day to vote and I would greatly appreciate it if you voted for me please. #minoritiesrule #Wom…\n",
      "25 RT @DougHenwood: This is idiotic. Has he looked at the BLS employment projections? Lots of low-skill low-pay jobs in the future. Not that m…\n",
      "26 RT @GovMikeHuckabee: The arrogance and ignorance of Mini-Mike about American Agriculture today is alarming. He has NO idea how technical fa…\n",
      "27 RT @YoungDems4Trump: Bloomberg says farmers lack intelligence: “I can teach anyone how to be a farmer 1 dig a hole 2 put a seed in 3 put di…\n",
      "28 RT @jacionline: In the 3 months between 30-minute clinical visits, a patient with asthma has 2,190 hours of managing their disease and trea…\n",
      "29 RT @newscomauHQ: Pedestrian groups in Melbourne are calling for speeding cyclists, travelling double the limit, to be slapped with on-the-s…\n",
      "30 RT @YoungDems4Trump: Bloomberg says farmers lack intelligence: “I can teach anyone how to be a farmer 1 dig a hole 2 put a seed in 3 put di…\n",
      "31 Moreira al rescate!\n",
      "32 RT @YoungDems4Trump: Bloomberg says farmers lack intelligence: “I can teach anyone how to be a farmer 1 dig a hole 2 put a seed in 3 put di…\n",
      "33 RT @BusyDrT: And what could possibly go wrong with this? Vaccines, Viruses, 5G, Artificial Intelligence, Privacy Violations? People HAVE NO…\n",
      "34 .@BenCarrollMP , it'd be great if you could prevent some crime here, as apparently it isn't an issue of interest fo… https://t.co/C1b6vzRfv7\n",
      "35 RT @iAnkurSingh: Google was technology partner and helped setting up wifi service for 415 stations, whereas railway's PSU Railtel is provid…\n",
      "36 RT @lynlinking: PM Scott Morrison’s new plan to avoid a target for net zero emissions by 2050 The PM has risen to the occasion once again b…\n",
      "37 New green technology generates electricity 'out of thin air': Renewable device could help mitigate climate change,… https://t.co/bT4BHaGehU\n",
      "38 Vantaggi dell’Utilizzo di Big Data BIG Data https://t.co/WCu5l9FA9O\n",
      "39 RT @piscitelli: How Technology is Shaping the Future of Education https://t.co/mN67mYNTWM vía @edmundogs cc @DavidLRios @erickriosjs @julit…\n",
      "40 Hey @Telus. Is this True? Please confirm \n",
      "\n",
      "Telus’ Canadian 5G network will use Huawei technology… https://t.co/XZg7VvNSZ8\n",
      "41 RT @DataScienceNIG: Over 730 passionate students across 15 locations nationwide started their Artificial Intelligence journey last week thr…\n",
      "42 RT @joniernst: You want to talk “gray matter,” @MikeBloomberg?\n",
      " \n",
      "How about a job that requires being a…\n",
      " \n",
      "meteorologist\n",
      "conservationist\n",
      "mec…\n",
      "43 Slave markets found on Instagram and other apps\n",
      "\n",
      "https://t.co/ibim8ApiM2\n",
      "44 RT @Jessie42292067: I just spent an hour and 30 mins on the phone with Telus. It's true, they are implementing Huawei 5G technology.\n",
      "\n",
      "Sad,…\n",
      "45 RT @USA_Polling: Democratic Primary Polling:\n",
      "\n",
      "Sanders: 24% (-)\n",
      "Bloomberg: 20% (+9)\n",
      "Biden: 18% (-6)\n",
      "Warren: 10% (-1)\n",
      "Buttigieg: 9% (+1)\n",
      "Klob…\n",
      "46 @DrunkHoLMAO @zachpsouth @karuhganlee Who do we know that has a recent affinity for technology.... which includes u… https://t.co/v3aSnC7zcA\n",
      "47 RT @vanranstmarc: China’s Ministry of Science and Technology meldt dat het antimalariamiddel chloroquine blijkt te werken in de behandeling…\n",
      "48 RT @ChrisDJackson: I'll go on record and say that Bernie Sanders won't get 66% of the Latino vote in Nevada. Anything lower benefits Biden…\n",
      "49 RT @nonnie_myers: Really?😳Farmer here:Farming is a high-tech, multi-million dollar business even for small farming operations.The hours are…\n",
      "50 RT @oswal_rivera: https://t.co/KFYNyAVhUQ BANDIDOS miserables @ActualidadRT @teleSURtv @RevistaSemana @CaracolRadio @NoticiasCaracol @WRadi…\n",
      "51 9 Powerful Examples of Artificial Intelligence in Use Today - IQVIS Inc. https://t.co/mBrfCrYhzv\n",
      "52 RT @ASPI_ICPC: @EURACTIV @FinancialTimes 3⃣‘The Trump administration is weighing new trade restrictions on China that would limit the use o…\n",
      "53 ZOOOOOOOOOOOOO\n",
      "54 RT @bcmerchant: Just a reminder that the very simplest and easiest thing Jeff Bezos could do to have a large impact with regard to fighting…\n",
      "55 RT @ZwartblesIE: A knowledgeable American once said:\n",
      "\"You know, farming looks mighty easy when your plow is a pencil, and you're a thousand…\n",
      "56 thumbnail's still the old one of my grumpy ass trying to understand simple technology. who cares let's go\n",
      "57 Requesting-Great CT-of San Jose&amp; Its Opportunity Zones Advantage+ Its San Jose Foreign Trade Zone Advantages to Exp… https://t.co/k5CvS1nuBz\n",
      "58 RT @StrategyMacro: South Korea will share the production technology for its SARS-COV-2 test kits (rt PCR) with Japan. No mention of this an…\n",
      "59 people still make nes games today. Do people make retrofilms? movies made today but set in the past made using film… https://t.co/9dcq67lwxg\n",
      "60 RT @EricTrump: How demeaning. Not only did he insult every farmer in the country but every factory worker, tradesman, machinist etc. “Just…\n",
      "61 RT @BasedPoland: Another 99 infected on the #DiamondPrincess\n",
      "\n",
      "How many total infected on that cruise ship now? Around 450?\n",
      "\n",
      "China is using…\n",
      "62 RT @iowahawkblog: I guess he’s so short because somebody forgot to water him\n",
      "63 #Democrats’ diversity:\n",
      "\n",
      "Billions of dollars from US public pension funds are steered to China to build military, sh… https://t.co/gmtVaaYVMC\n"
     ]
    },
    {
     "name": "stdout",
     "output_type": "stream",
     "text": [
      "64 RT @selenagomez: Absolutely devastated by the fires in Australia. Praying for everyone affected and all of the first responders. I’m making…\n",
      "65 Elon Musk &amp; Bill Gates talk Artificial Intelligence, China and Being Smart https://t.co/2Z09md4DlB via @YouTube @elonmusk Found this one 😁\n",
      "66 RT @BrianRoemmele: It was 1988 Steve Jobs presented the most amazing insight about technology.\n",
      "\n",
      "“This is field where one does not write a P…\n",
      "67 RT @sunnirinker: @MikeBloomberg is a NUT!\n",
      "68 Tech News via @7GTech -  @mvollmer1: 'How will #technology change movie theaters? Do we get multiple screens? via… https://t.co/0mG551ewtu\n",
      "69 RT @cjdtwit: 😡\n",
      "Bloomberg is an IDIOT!\n",
      "\n",
      "You don't think FARMERS have to think and analyze? \n",
      "\n",
      "“College educated people are great at memorizin…\n",
      "70 RT @StrategyMacro: South Korea will share the production technology for its SARS-COV-2 test kits (rt PCR) with Japan. No mention of this an…\n",
      "71 This caught my eye more than anything \"In the more romanticized view [of artificial general intelligence], a machin… https://t.co/3ZWI3S6UGq\n",
      "72 RT @kscott017: Something Democrats and Republicans can both agree on: Mike Bloomberg sucks\n",
      "73 RT @yumesora615: https://t.co/tmXa1rnZlc\n",
      "\n",
      "男性用ピルの開発も進んでおりますが女性用同様性病は防げません。ホルモン剤なので！！ちなみに普通のピルを男性が飲むと女性化が進みます(髪生える、おっぱい膨らむ、睾丸縮小、精子死ぬ等々)\n",
      "74 @BenSpielberg List all the progressive candidates who flipped seats in 2018. I’ll wait. \n",
      "\n",
      "I’m a big tent person and… https://t.co/PAMIeuLMyx\n",
      "75 RT @asadowaisi: Kashmir mein sab kuch normal hai, haina?\n",
      "\n",
      "Everyday there is new proof of how little @AmitShah understood Kashmir (or appare…\n",
      "76 RT @GovMikeHuckabee: The arrogance and ignorance of Mini-Mike about American Agriculture today is alarming. He has NO idea how technical fa…\n",
      "77 One thing I will say. If it weren't for the advancements in safety technology since Dale Sr's crash in '01 there is… https://t.co/ZfH6Jr8D7E\n",
      "78 RT @YoungDems4Trump: Bloomberg says farmers lack intelligence: “I can teach anyone how to be a farmer 1 dig a hole 2 put a seed in 3 put di…\n",
      "79 RT @NYBackpacker: Bloomberg on why farmers can’t work in information technology\n",
      "\n",
      "MB: “I can teach anyone how to be a farmer 1 dig a hole 2…\n",
      "80 Morning Report: Oilers @ Hurricanes (16 February) https://t.co/F9UETqLulb https://t.co/kQkmOFUR2J\n",
      "81 Data Science &amp; Analytics does not always work and innovation is its kryptonite. Right Blockbuster?🤦‍♂️… https://t.co/UEHXHwezjg\n",
      "82 RT @meghadatta17: A big shoutout to folks from #development sector or those associated with sustainability. Please participate in a study o…\n",
      "83 RT @TheRoot: Sambo Be Damned! Black Fashion Model Refused to Wear ‘Racist’ Accessories at Fashion Institute of Technology Show\n",
      "https://t.co…\n",
      "84 It would be interesting to see a head to head trial between kineret, canakinumab and tocilizumab in SJIA.\n",
      "85 RT @Citi: We are excited to launch #Citi Wealth Builder, our new digital investing solution, which harnesses the power of technology to off…\n",
      "86 @rastapasta43 I call BULLSHIT! what the hell are high technology radios and communication for? Selfish pricks!\n",
      "87 Vantaggi dell’Utilizzo di Big Data BIG Data https://t.co/8XWjrzYvMD\n",
      "88 RT @rising_serpent: Bloomberg calls farmers dumb: “I can teach anyone how to be a farmer.\n",
      "The skill for information technology is completel…\n",
      "89 RT @EricTrump: How demeaning. Not only did he insult every farmer in the country but every factory worker, tradesman, machinist etc. “Just…\n",
      "90 RT @AaronDayAtlas: I hope @JamesOKeefeIII and @Project_Veritas are covering this.\n",
      "#shadowban\n",
      "\n",
      "https://t.co/lAG22LD3Sl\n",
      "91 \"SAS a Leader in 2020 Gartner Magic Quadrant for Data Science and Machine Learning Platforms\" https://t.co/j0h7PsSDws\n",
      "92 Technology has advanced a lot since @Elliott_Sadler went for this ride. Hoping for good news for Ryan Newman soon.\n",
      "93 Spend a few hours going through Go tour, downloaded Go and GoLand on my machine as well as going through a few of… https://t.co/wBgXXk4Qz3\n",
      "94 RT @Condor_Law: #Democrats’ diversity:\n",
      "\n",
      "Billions of dollars from US public pension funds are steered to China to build military, ships, sub…\n",
      "95 https://t.co/4MOt7DR0PK\n",
      "96 What is artificial intelligence with examples? - Google Search https://t.co/qdv1C5hDO8:\n",
      "97 RT @GovMikeHuckabee: The arrogance and ignorance of Mini-Mike about American Agriculture today is alarming. He has NO idea how technical fa…\n",
      "98 RT @YoungDems4Trump: Bloomberg says farmers lack intelligence: “I can teach anyone how to be a farmer 1 dig a hole 2 put a seed in 3 put di…\n",
      "99 RT @EricTrump: How demeaning. Not only did he insult every farmer in the country but every factory worker, tradesman, machinist etc. “Just…\n",
      "100 RT @BearUKnow: BREAKING NEWS!!!\n",
      "\n",
      "DARPA develops new technology!\n",
      "\n",
      "https://t.co/MPtom1WiHy\n",
      "101 RT @earlouismd: @MedFacSec Analogy: Cars cause car accidents all the time but banning all cars because of a few who do not know how drive s…\n",
      "102 RT @asadowaisi: Kashmir mein sab kuch normal hai, haina?\n",
      "\n",
      "Everyday there is new proof of how little @AmitShah understood Kashmir (or appare…\n",
      "103 RT @BojanaVukov: This teenager built his own prosthetic arm using Lego\n",
      "\n",
      "Via @wef\n",
      "\n",
      "#robotics #HealthTech #healthcare #AI #innovation #Automa…\n",
      "104 Little Oligarch Mike \"Mini\" Bloomberg mocks hard-working American farmers &amp; industrial workers for being bereft of… https://t.co/h39ItmoSb6\n",
      "105 RT @ahmed: The expanding use of technology means that people now leave an extensive body of personal information behind them when they die…\n",
      "106 Happy Family Day from the House of Pain!! We’re currently on different continents but thanks to technology, we conn… https://t.co/hhKIoiIL6P\n",
      "107 RT @EricTrump: How demeaning. Not only did he insult every farmer in the country but every factory worker, tradesman, machinist etc. “Just…\n",
      "108 When your data science tutorial is too interesting you can’t sleep.. 🤭 🙈 \n",
      "\n",
      "#python #pythonprogramming… https://t.co/YFV4HVxeDp\n",
      "109 RT @nonnie_myers: Really?😳Farmer here:Farming is a high-tech, multi-million dollar business even for small farming operations.The hours are…\n",
      "110 RT @devLabs_: Data types in #javascript\n",
      "pass by value\n",
      "https://t.co/yui4MJCY3D\n",
      "\n",
      "#programming #coding #HTML #CSS #FrontEnd #webdev #webdevelo…\n",
      "111 RT @RealJamesWoods: Shutting down conservative free speech in time for the election, you mean. There, fixed it for you, Mark!  https://t.co…\n",
      "112 #TechStuff: Data Scientists Share What Technologies They're Using to Build Their Data Pipelines — and Why - Built I… https://t.co/SY1HLqDTSv\n",
      "113 Vantaggi dell’Utilizzo di Big Data BIG Data https://t.co/SyWfHvZuqU\n",
      "114 RT @tanya_plibersek: Seven years of this Liberal Government –\n",
      " \n",
      "2017 – Aussie car manufacturing shut down: 2900 jobs gone.\n",
      " \n",
      "Today – an ico…\n",
      "115 RT @EpochTimesChina: Chinese leader #XiJinping said in a recent speech that lab #Biosafety should be treated as a #NationalSecurity issue,…\n",
      "116 RT @DynastyHHPod: 🎴NEW EPISODE🎴\n",
      "\n",
      "@DHH_Tim and @DHH_Tyler bring on the Author of \"Analytics of Dynasty\" @McNamaraDynasty to talk about the n…\n",
      "117 My current favorite  assessment tool is Google Forms. There are several types of quizzes to choose from and are qui… https://t.co/GiQ2j12f6D\n",
      "118 RT @Condor_Law: #Democrats’ diversity:\n",
      "\n",
      "Billions of dollars from US public pension funds are steered to China to build military, ships, sub…\n",
      "119 RT @Condor_Law: #Democrats’ diversity:\n",
      "\n",
      "Billions of dollars from US public pension funds are steered to China to build military, ships, sub…\n",
      "120 RT @KatherineWolfr2: Not just harvesting crop or throwing seeds, you got to know when &amp;cultivate , you have to know about coming back &amp; rot…\n",
      "121 @Undetermined_US @kari_paul @internetofshit @GIGCarShare Because she's a technology reporter?\n",
      "122 Vantaggi dell’Utilizzo di Big Data BIG Data https://t.co/hVKZdcWNww\n",
      "123 RT @YoungDems4Trump: Bloomberg says farmers lack intelligence: “I can teach anyone how to be a farmer 1 dig a hole 2 put a seed in 3 put di…\n",
      "124 RT @ccinthemiddle: Anyone else agree that every time Bloomberg opens his mouth is another pro-Trump ad? 😂\n",
      "125 RT @Condor_Law: #Democrats’ diversity:\n",
      "\n",
      "Billions of dollars from US public pension funds are steered to China to build military, ships, sub…\n",
      "126 And if he had to grow his own food he would die of starvation in 2 months. This guy needs to get a fucking life and… https://t.co/LEz7hfFE99\n"
     ]
    },
    {
     "name": "stdout",
     "output_type": "stream",
     "text": [
      "127 RT @Condor_Law: #Democrats’ diversity:\n",
      "\n",
      "Billions of dollars from US public pension funds are steered to China to build military, ships, sub…\n",
      "128 RT @EricTrump: How demeaning. Not only did he insult every farmer in the country but every factory worker, tradesman, machinist etc. “Just…\n",
      "129 RT @NXSCommunity: Join our ever growing community in our quest to bring the world secure, #decentralized, peer-to-peer networks with innova…\n",
      "130 RT @BasedPoland: Another 99 infected on the #DiamondPrincess\n",
      "\n",
      "How many total infected on that cruise ship now? Around 450?\n",
      "\n",
      "China is using…\n",
      "131 RT @noonanjo: A Chinese professor published a paper saying corona came from poor safety conditions at Wuhan lab. He published, then quick r…\n",
      "132 And yet another @hosting offer for future applicants to the @MSCA @Postdoctoral @Fellowship call 2020 - the Norwegi… https://t.co/qM6ktYh2vY\n",
      "133 RT @YoungDems4Trump: Bloomberg says farmers lack intelligence: “I can teach anyone how to be a farmer 1 dig a hole 2 put a seed in 3 put di…\n",
      "134 RT @YoungDems4Trump: Bloomberg says farmers lack intelligence: “I can teach anyone how to be a farmer 1 dig a hole 2 put a seed in 3 put di…\n",
      "135 RT @asadowaisi: Kashmir mein sab kuch normal hai, haina?\n",
      "\n",
      "Everyday there is new proof of how little @AmitShah understood Kashmir (or appare…\n"
     ]
    }
   ],
   "source": [
    "stream.statuses.filter(track='analytics, technology, big data, machine learning, artificial intelligence')"
   ]
  },
  {
   "cell_type": "markdown",
   "metadata": {},
   "source": [
    "## Shows collected tweet stored in the list"
   ]
  },
  {
   "cell_type": "code",
   "execution_count": 37,
   "metadata": {
    "ExecuteTime": {
     "end_time": "2020-02-18T01:45:25.377846Z",
     "start_time": "2020-02-18T01:45:25.369279Z"
    }
   },
   "outputs": [
    {
     "data": {
      "text/plain": [
       "['RT @YoungDems4Trump: Bloomberg says farmers lack intelligence: “I can teach anyone how to be a farmer 1 dig a hole 2 put a seed in 3 put di…',\n",
       " 'RT @elegantthemes: Find out why Divi has become the most popular WordPress Theme in the world. Now including our game-changing Visual Build…',\n",
       " 'RT @SalisburyAcct: Tech-averse businesses owners miss out on benefits that #technology provides through the use of accounting software, app…',\n",
       " \"RT @GuardianUS: Amazon's Jeff Bezos pledges $10bn to save Earth's environment | Amazon | The Guardian https://t.co/pxxydYAK8U\",\n",
       " '@mcannonbrookes @solitaryseabird I always laugh at this. \\n\\nCoal has a guy as long as solar wind and geo. \\n\\nThe end… https://t.co/9hdcoBGS2o',\n",
       " 'RT @piscitelli: How Technology is Shaping the Future of Education https://t.co/mN67mYNTWM vía @edmundogs cc @DavidLRios @erickriosjs @julit…',\n",
       " 'RT @JonathanCohn: How about he actually pay taxes instead? https://t.co/X51PxtEqQK',\n",
       " \"RT @OlsonElijah: Bloomberg overestimates how deep corn is planted.\\nI don't think any of Mike's corn will ever come up.\",\n",
       " 'RT @NichollsOnlinEd: Nicholls Online director will be teaching in Paris as a part of International Week.',\n",
       " 'Sambo Be Damned! Black Fashion Model Refused to Wear ‘Racist’ Accessories at Fashion Institute of Technology Show',\n",
       " 'RT @PaulPolman: \"We have everything in our power. We have the capital, the technology, the policies. And we have the scientific knowledge t…',\n",
       " 'RT @YoungDems4Trump: Bloomberg says farmers lack intelligence: “I can teach anyone how to be a farmer 1 dig a hole 2 put a seed in 3 put di…',\n",
       " \"Ima just say.... this A.I. stuff is wild wild to me \\n\\nI hope y'all get equipped for the upcoming technology cause I… https://t.co/lGgcCiiwYQ\",\n",
       " 'RT @BFFdees: #lilleejean lies about her analytics during her Instagram Live while the proof she’s lying is on the screen. These people 😂\\n\\n#…',\n",
       " 'Like | Share | Comment | Subscribe |\\nhttps://t.co/TnHboyHaWU\\n\\n#techietraveller #techie #technology #travel… https://t.co/r7iSzAUFdb',\n",
       " 'RT @rising_serpent: Bloomberg calls farmers dumb: “I can teach anyone how to be a farmer.\\nThe skill for information technology is completel…',\n",
       " \"@JohnLeksander @WashingtonElite It's coming. We're integrating this technology into everything from the military to supply chain.\",\n",
       " 'RT @enjin: With a clean, simple UI, the robust, all-in-one Enjin Platform enables you to take advantage of a cutting-edge technology in an…',\n",
       " '@24_7cop @HPSarcastic @LymoTweetUp @JainaProudmore @Valerie77144598 @KTHopkins @Chinn888 With the use of technology… https://t.co/IpO0B7mdxc',\n",
       " 'RT @mguariglia: I’m in @Slate today writing about how the flawed criminal justice system cannot, and should not, be trusted to keep all of…',\n",
       " '@blckbeardelight @RisingRedStorm @stlbluesNcoys @hayscountyHT @Mr_AlbieShore @AceHudsonJr @jakemkaplan @pedromoura… https://t.co/2hevvxDAoL',\n",
       " 'RT @PBS: \"Amazon Empire\" examines founder and CEO Jeff Bezos\\' ascent to power — and his ability to shape everything from the future of work…',\n",
       " 'I would like to build or join a network of traders and like-minded individuals to share ideas and improve my/our tr… https://t.co/Pe5QHf7Ce9',\n",
       " 'RT @YoungDems4Trump: Bloomberg says farmers lack intelligence: “I can teach anyone how to be a farmer 1 dig a hole 2 put a seed in 3 put di…',\n",
       " 'The code behind The Economist’s Big Mac index (#economy) - https://t.co/1IgL6Yevf7',\n",
       " 'Major cities are fighting cancer-causing 5G technology https://t.co/oluQRocHrG',\n",
       " 'are you fucking serious we don’t WANT THEM',\n",
       " 'RT @EricTrump: How demeaning. Not only did he insult every farmer in the country but every factory worker, tradesman, machinist etc. “Just…',\n",
       " 'The supply chain technology trends for 2020 reflect the growing demands for more service, more value, faster shippi… https://t.co/WBK5lsHLR0',\n",
       " 'Concerns over safety at Amazon warehouses as accident reports rise https://t.co/WNOf4WyI7n',\n",
       " 'RT @YoungDems4Trump: Bloomberg says farmers lack intelligence: “I can teach anyone how to be a farmer 1 dig a hole 2 put a seed in 3 put di…',\n",
       " 'RT @amicah1: I CAN TEACH ANYONE HOW TO BE A FARMER!\\n\\n🇺🇸Connect with MAGA Patriots🇺🇸\\n\\n🇺🇸Retweet\\n\\n🇺🇸Reply with your @ (handle)\\n \\n🇺🇸Follow all…',\n",
       " 'RT @YoungDems4Trump: Bloomberg says farmers lack intelligence: “I can teach anyone how to be a farmer 1 dig a hole 2 put a seed in 3 put di…',\n",
       " 'VOTE NOW! Grand Lake Area Preseason Baseball Poll - Presented by NE Tech (Poll Ends 2/24)\\n\\nhttps://t.co/XBteY98ZRn… https://t.co/e3kCGx9sJJ',\n",
       " 'Business Analytics: Data Analysis &amp; Decision Making - Hardcover - GOOD $31.92 via eBay https://t.co/mEyvO1Ssl9 time left: 28d 23h',\n",
       " 'RT @joniernst: You want to talk “gray matter,” @MikeBloomberg?\\n\\xa0\\nHow about a job that requires being a…\\n\\xa0\\nmeteorologist\\nconservationist\\nmec…',\n",
       " 'RT @Datascience__: Customer Churn Prediction Using Machine Learning: Main Approaches and Models https://t.co/ykAx2Idzcy  #MachineLearning',\n",
       " 'RT @jtLOL: \"It\\'s easy, you just plant the seed in the dirt, add a little water, up grows the corn\"\\n\\n\"It\\'s easy, you just put your fingers o…',\n",
       " 'RT @Fabriziobustama: Over 70% of digital transformation projects fail\\n\\nBy @Fin24_Tech\\nhttps://t.co/scSWZUa85v\\n#DigitalTransformation #Digit…',\n",
       " 'RT @EricMMatheny: Translation: we NY liberals know what’s best, middle America is dumb and living behind the times, but who cares because t…',\n",
       " 'add URL analytics (hit count, location, ip, country, province etc) https://t.co/NsZpAhtF0s #github #TypeScript… https://t.co/2Yfgyo54Km',\n",
       " 'Recommended read: How Android App Development Benefits Startups &amp; Businesses. #Technology #MachineLearning… https://t.co/GifWfgQodx',\n",
       " 'RT @KatherineWolfr2: Not just harvesting crop or throwing seeds, you got to know when &amp;cultivate , you have to know about coming back &amp; rot…',\n",
       " 'Recommended read: How Chatbots are Improving Healthcare, Finances, and Insurance #Technology #MachineLearning… https://t.co/PHcsE7srOC',\n",
       " \"A Beginner's Guide To Machine Learning with Unity #Learning #machinelearning #ui via https://t.co/Rc3dYvCmT7 https://t.co/svey0dxTv9\",\n",
       " 'Recommended read: NLP News Cypher | 02.16.20 #Technology #MachineLearning #ArtificialIntelligence #AI #ML… https://t.co/PclID2Btxm',\n",
       " 'Machine Learning with Signal Processing Techniques #BigData #learning via https://t.co/cWtH1dlsB2 https://t.co/Qo52K26Sxk',\n",
       " 'RT @FmFrancoise: #cloudcomputing via NodeXL https://t.co/Vyx5TzRFuH\\n@gp_pulipaka\\n@mikequindazzi\\n@antgrasso\\n@chidambara09\\n@hubofml\\n@cybersec…',\n",
       " 'RT @dfccil_india: Electrification in DFC are being done on Fast Pace by using Technology: From Diggings of hole , Erecting the OHE Mast to…',\n",
       " 'RT @realpython: 🐍📰 Classification is one of the most important areas of machine learning, and logistic regression is one of its basic metho…',\n",
       " 'RT @ArchonGhoul: What if Nightmare’s boys found out he didn’t know how to type, or like, much of anything about cellphones/ the internet/ a…',\n",
       " 'RT @Felix_NoContext: Modern day technology in a nutshell https://t.co/NViSLp2K3T',\n",
       " \"On that night, FOX went off at 5:15pm.\\n\\nWhen it was announced that Earnhardt had died, FOX didn't break in to repor… https://t.co/E1oxLsFz7S\",\n",
       " 'RT @asadowaisi: Kashmir mein sab kuch normal hai, haina?\\n\\nEveryday there is new proof of how little @AmitShah understood Kashmir (or appare…',\n",
       " 'RT @mzjacobson: @JesseJenkins Your claim is not correct. I did not \"screen technology options a priori\" I published a study in 2009 where I…',\n",
       " 'RT @RichHiggins_DC: Being perp walked from White House for trying to stop the coup created some free time.  My colleague Steve Coughlin and…',\n",
       " \"RT @osldotcom: We've explored five key tools for digital asset #custody in our Custody 101 series: #HSM, #Faraday technology, #Coinpurity a…\",\n",
       " 'RT @SmartupCapital: The Air-gen created at @UMassAmherst connects electrodes to the protein nanowires in such a way that electrical current…',\n",
       " 'RT @ConectaTECmx: Estudiantes mexicanos son premiados en Bruselas por la Comisión Europea, por un proyecto educativo utilizando Inteligenci…',\n",
       " 'Ironic cause now we need a machine to push the buttons #technology',\n",
       " 'RT @nonnie_myers: Really?😳Farmer here:Farming is a high-tech, multi-million dollar business even for small farming operations.The hours are…',\n",
       " 'I wanted to learn about machine learning techniques, and as part of exploring, I fed a database of about ~385k Jeop… https://t.co/EOD0r0O63H',\n",
       " 'RT @LilyNCali: So is @who an arm of Communist China now? \\nIs “misinformation” defined as anything they don’t want made public? \\n\\nWHO Holds…',\n",
       " 'Rent in NYC finally gonna go down',\n",
       " 'RT @StarTrek: “You know, I’ve always thought that technology could solve almost any problem.” -Geordi La Forge ✨ #StarTrek  https://t.co/8z…',\n",
       " 'RT @picardonhealth: Your DNA is a valuable asset, so why give it away for free? DNA testing companies like @Ancestry and @23andMe are selli…',\n",
       " 'RT @gwbehn: @Sandman90701996 Yup, PeeWee Bloomberg has No Clue how technology &amp; computer driven farming &amp; factory/industrial work is now! F…',\n",
       " '#NowHiring: #Software Engineer – Python, JavaScript, Agile\\n#AI #Austin #BigData #Robotics #Artificial Intelligence… https://t.co/Yrj8iNTdFn',\n",
       " 'RT @rpabotpro: Looking forward to presenting \"RPASaaS The future of RPA\" at\\nMachine Learning and Deep Learning Day,Toronto,March 12, 2020 h…',\n",
       " 'RT @SalenaZito: This “can teach anyone” quip is ignorant.\\nFarmers are electricians plumbers, mechanics, scientists, vets, engineers &amp; H2O/s…',\n",
       " 'A report published by blockchain analytics firm Tradeblock, says that the upcoming Bitcoin halving event will have… https://t.co/t5YarWqSo8',\n",
       " 'Finding These Problems in Your Google Analytics Data and How to Fix Them - https://t.co/LjGEgWOHAT SEO #Analytics',\n",
       " 'RT @rising_serpent: Bloomberg calls farmers dumb: “I can teach anyone how to be a farmer.\\nThe skill for information technology is completel…',\n",
       " 'Still actively working towards this. 😇😇',\n",
       " 'RT @machinelearnflx: Artificial Intelligence &amp; Machine Learning for Business https://t.co/BOxXtBpCEy  #machinelearning #ad',\n",
       " 'RT @BardsOfWar: Twitter locks down Wikileaks?\\n\\nJust hours after WHO meets with BIG TECH to discuss Corona Virus censorship, Twitter locks d…',\n",
       " '@AllHorsepower @NASCARSuperman I was listening to the Jason Johnson crash and on the boards of dirt vision and peop… https://t.co/VK4lCS8cJI',\n",
       " 'Within the next four years, most baggage systems will be #RFID enabled, providing big opportunities to explore the… https://t.co/KvIpo8NInp',\n",
       " 'RT @first_issues: add URL analytics (hit count, location, ip, country, province etc) https://t.co/NsZpAhtF0s #github #TypeScript #JavaScrip…',\n",
       " 'RT @TomieFresh: 1:58am, Speaking into existence: I will be the first African to own a major film, animation, game production village &amp; spec…',\n",
       " 'I’d like to become the face of the #KillCursive movement. There’s no use for kids to learn cursive anymore with the… https://t.co/Rk8ngEsZdQ',\n",
       " 'RT @SarahRibeiroSi6: A report published by blockchain analytics firm Tradeblock, says that the upcoming Bitcoin halving event will have sig…',\n",
       " 'RT @YoungDems4Trump: Bloomberg says farmers lack intelligence: “I can teach anyone how to be a farmer 1 dig a hole 2 put a seed in 3 put di…',\n",
       " 'RT @PpollingNumbers: #National Zogby Analytics Poll\\n(Change from last month)\\n\\nSanders 24% (-)\\nBloomberg 20% (+9)\\nBiden 18% (-6)\\nWarren 10%…',\n",
       " 'SITA’s industry-leading bag-drop technology is being installed across 18 airports in the Americas for LATAM Airline… https://t.co/iW22QC5o54',\n",
       " 'RT @EricTrump: How demeaning. Not only did he insult every farmer in the country but every factory worker, tradesman, machinist etc. “Just…',\n",
       " 'I cannot believe Mini Mike uttered these demeaning to our great farmers words.',\n",
       " 'well as so called pi-sa programm overseeing your not liked by a certain group that grew succesreality in designed P… https://t.co/5n9zjxpsHf',\n",
       " 'Read the heartwarming story about how native Michigander @jasonwenk became a success in the financial technology wo… https://t.co/yEb5fiPlzj',\n",
       " '@carpediemfsu It’s not at all, you played a horrible schedule and squeaked out game after game. As Andrew said, you… https://t.co/giBBqO0Hnx',\n",
       " 'RT @hshaban: Some stories to consider as Jeff Bezos announces a $10 billion pledge to fight climate change...\\n\\nAmazon employee protests: ht…',\n",
       " 'RT @URDUVOA: ورچوئل ورلڈ ٹیکنالوجی کا انوکھا کارنامہ، مرنے والوں سے ملاقات ممکن ہوگئی۔\\n#UrduVOA #Technology https://t.co/hTfhdjygmD',\n",
       " 'RT @GalleriaofArt: #iPhoneX #Cases #Online\\n\\n🌸https://t.co/C3SC3zYaAj\\n\\n#iPhone #Apple #Smartphones #mobile #Google #deals #app #technews #te…',\n",
       " 'America works because decentralization is a wonderful idea. Our founders did not have the technology we have today… https://t.co/5B47ExhNZS',\n",
       " 'RT @NYBackpacker: Bloomberg on why farmers can’t work in information technology\\n\\nMB: “I can teach anyone how to be a farmer 1 dig a hole 2…',\n",
       " 'RT @RTarabic: اكتشاف جدران غريبة مصنوعة من عظام وجماجم البشر أسفل كاتدرائية  \\nhttps://t.co/nOT498r01V',\n",
       " 'RT @ozm: @PLOSONE Atlanta, Houston, Dallas, Denver, and Las Vegas will be among the most popular relocation destinations, say the researche…',\n",
       " 'RT @SnteNacional: #EncuentroSNTE 👩\\u200d🎓🙋👩🏻\\u200d🎓\\n\\n#SNTE 🔴 Higher education 📚 science 🧑\\u200d🔬 and technology 👩\\u200d💻 must be by law in any nation 🌎 as huma…',\n",
       " 'RT @SnteNacional: #EncuentroSNTE 👩\\u200d🎓🙋👩🏻\\u200d🎓\\n\\n#SNTE 🔴 Higher education 📚 science 🧑\\u200d🔬 and technology 👩\\u200d💻 must be by law in any nation 🌎 as huma…',\n",
       " 'RT @SnteNacional: #EncuentroSNTE 👩\\u200d🎓🙋👩🏻\\u200d🎓\\n\\n#SNTE 🔴 Higher education 📚 science 🧑\\u200d🔬 and technology 👩\\u200d💻 must be by law in any nation 🌎 as huma…']"
      ]
     },
     "execution_count": 37,
     "metadata": {},
     "output_type": "execute_result"
    }
   ],
   "source": [
    "tweets"
   ]
  }
 ],
 "metadata": {
  "kernelspec": {
   "display_name": "Python 3",
   "language": "python",
   "name": "python3"
  },
  "language_info": {
   "codemirror_mode": {
    "name": "ipython",
    "version": 3
   },
   "file_extension": ".py",
   "mimetype": "text/x-python",
   "name": "python",
   "nbconvert_exporter": "python",
   "pygments_lexer": "ipython3",
   "version": "3.7.4"
  },
  "toc": {
   "base_numbering": 1,
   "nav_menu": {},
   "number_sections": true,
   "sideBar": true,
   "skip_h1_title": false,
   "title_cell": "Table of Contents",
   "title_sidebar": "Contents",
   "toc_cell": false,
   "toc_position": {},
   "toc_section_display": true,
   "toc_window_display": true
  },
  "varInspector": {
   "cols": {
    "lenName": 16,
    "lenType": 16,
    "lenVar": 40
   },
   "kernels_config": {
    "python": {
     "delete_cmd_postfix": "",
     "delete_cmd_prefix": "del ",
     "library": "var_list.py",
     "varRefreshCmd": "print(var_dic_list())"
    },
    "r": {
     "delete_cmd_postfix": ") ",
     "delete_cmd_prefix": "rm(",
     "library": "var_list.r",
     "varRefreshCmd": "cat(var_dic_list()) "
    }
   },
   "types_to_exclude": [
    "module",
    "function",
    "builtin_function_or_method",
    "instance",
    "_Feature"
   ],
   "window_display": false
  }
 },
 "nbformat": 4,
 "nbformat_minor": 2
}
